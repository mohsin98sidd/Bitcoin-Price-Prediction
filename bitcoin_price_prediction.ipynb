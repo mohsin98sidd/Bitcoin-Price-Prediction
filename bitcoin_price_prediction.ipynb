{
 "cells": [
  {
   "cell_type": "markdown",
   "metadata": {},
   "source": [
    "# Bitcoin Price Prediction with Historical Data\n",
    "### 1 minute time interval OHLC data from Jan 2012 to December 2020\n",
    "\n",
    "#### Source of Data:\n",
    "https://www.kaggle.com/mczielinski/bitcoin-historical-data\n",
    "\n",
    "### Knowing the Data:\n",
    "#### Columns and Rows: 47,27,777 rows x 8 columns\n",
    "#### Column Data Types: Decimal (7) and Integer (1)\n",
    "\n",
    "## We will be training our model to predict weghted price of btc"
   ]
  },
  {
   "cell_type": "code",
   "execution_count": 1,
   "metadata": {},
   "outputs": [],
   "source": [
    "# Importing external Libraries\n",
    "import pandas as pd"
   ]
  },
  {
   "cell_type": "code",
   "execution_count": 2,
   "metadata": {},
   "outputs": [],
   "source": [
    "# Loading the dataset\n",
    "bitcoin_df = pd.read_csv('bitstampUSD_1-min_data_2012-01-01_to_2020-12-31.csv')"
   ]
  },
  {
   "cell_type": "markdown",
   "metadata": {},
   "source": [
    "# Describing the Data"
   ]
  },
  {
   "cell_type": "markdown",
   "metadata": {},
   "source": [
    "### Begining and Ending of Dataset"
   ]
  },
  {
   "cell_type": "code",
   "execution_count": 3,
   "metadata": {},
   "outputs": [
    {
     "data": {
      "text/html": [
       "<div>\n",
       "<style scoped>\n",
       "    .dataframe tbody tr th:only-of-type {\n",
       "        vertical-align: middle;\n",
       "    }\n",
       "\n",
       "    .dataframe tbody tr th {\n",
       "        vertical-align: top;\n",
       "    }\n",
       "\n",
       "    .dataframe thead th {\n",
       "        text-align: right;\n",
       "    }\n",
       "</style>\n",
       "<table border=\"1\" class=\"dataframe\">\n",
       "  <thead>\n",
       "    <tr style=\"text-align: right;\">\n",
       "      <th></th>\n",
       "      <th>Timestamp</th>\n",
       "      <th>Open</th>\n",
       "      <th>High</th>\n",
       "      <th>Low</th>\n",
       "      <th>Close</th>\n",
       "      <th>Volume_(BTC)</th>\n",
       "      <th>Volume_(Currency)</th>\n",
       "      <th>Weighted_Price</th>\n",
       "    </tr>\n",
       "  </thead>\n",
       "  <tbody>\n",
       "    <tr>\n",
       "      <th>0</th>\n",
       "      <td>1325317920</td>\n",
       "      <td>4.39</td>\n",
       "      <td>4.39</td>\n",
       "      <td>4.39</td>\n",
       "      <td>4.39</td>\n",
       "      <td>0.455581</td>\n",
       "      <td>2.000000</td>\n",
       "      <td>4.390000</td>\n",
       "    </tr>\n",
       "    <tr>\n",
       "      <th>1</th>\n",
       "      <td>1325317980</td>\n",
       "      <td>NaN</td>\n",
       "      <td>NaN</td>\n",
       "      <td>NaN</td>\n",
       "      <td>NaN</td>\n",
       "      <td>NaN</td>\n",
       "      <td>NaN</td>\n",
       "      <td>NaN</td>\n",
       "    </tr>\n",
       "    <tr>\n",
       "      <th>2</th>\n",
       "      <td>1325318040</td>\n",
       "      <td>NaN</td>\n",
       "      <td>NaN</td>\n",
       "      <td>NaN</td>\n",
       "      <td>NaN</td>\n",
       "      <td>NaN</td>\n",
       "      <td>NaN</td>\n",
       "      <td>NaN</td>\n",
       "    </tr>\n",
       "    <tr>\n",
       "      <th>3</th>\n",
       "      <td>1325318100</td>\n",
       "      <td>NaN</td>\n",
       "      <td>NaN</td>\n",
       "      <td>NaN</td>\n",
       "      <td>NaN</td>\n",
       "      <td>NaN</td>\n",
       "      <td>NaN</td>\n",
       "      <td>NaN</td>\n",
       "    </tr>\n",
       "    <tr>\n",
       "      <th>4</th>\n",
       "      <td>1325318160</td>\n",
       "      <td>NaN</td>\n",
       "      <td>NaN</td>\n",
       "      <td>NaN</td>\n",
       "      <td>NaN</td>\n",
       "      <td>NaN</td>\n",
       "      <td>NaN</td>\n",
       "      <td>NaN</td>\n",
       "    </tr>\n",
       "    <tr>\n",
       "      <th>...</th>\n",
       "      <td>...</td>\n",
       "      <td>...</td>\n",
       "      <td>...</td>\n",
       "      <td>...</td>\n",
       "      <td>...</td>\n",
       "      <td>...</td>\n",
       "      <td>...</td>\n",
       "      <td>...</td>\n",
       "    </tr>\n",
       "    <tr>\n",
       "      <th>4727772</th>\n",
       "      <td>1609372560</td>\n",
       "      <td>28801.47</td>\n",
       "      <td>28829.42</td>\n",
       "      <td>28785.64</td>\n",
       "      <td>28829.42</td>\n",
       "      <td>0.965221</td>\n",
       "      <td>27804.572129</td>\n",
       "      <td>28806.429798</td>\n",
       "    </tr>\n",
       "    <tr>\n",
       "      <th>4727773</th>\n",
       "      <td>1609372620</td>\n",
       "      <td>28829.42</td>\n",
       "      <td>28863.90</td>\n",
       "      <td>28829.42</td>\n",
       "      <td>28857.06</td>\n",
       "      <td>2.368831</td>\n",
       "      <td>68332.350629</td>\n",
       "      <td>28846.441863</td>\n",
       "    </tr>\n",
       "    <tr>\n",
       "      <th>4727774</th>\n",
       "      <td>1609372680</td>\n",
       "      <td>28850.49</td>\n",
       "      <td>28900.52</td>\n",
       "      <td>28850.49</td>\n",
       "      <td>28882.82</td>\n",
       "      <td>2.466590</td>\n",
       "      <td>71232.784464</td>\n",
       "      <td>28879.056266</td>\n",
       "    </tr>\n",
       "    <tr>\n",
       "      <th>4727775</th>\n",
       "      <td>1609372740</td>\n",
       "      <td>28910.54</td>\n",
       "      <td>28911.52</td>\n",
       "      <td>28867.60</td>\n",
       "      <td>28881.30</td>\n",
       "      <td>7.332773</td>\n",
       "      <td>211870.912660</td>\n",
       "      <td>28893.695831</td>\n",
       "    </tr>\n",
       "    <tr>\n",
       "      <th>4727776</th>\n",
       "      <td>1609372800</td>\n",
       "      <td>28893.21</td>\n",
       "      <td>28928.49</td>\n",
       "      <td>28893.21</td>\n",
       "      <td>28928.49</td>\n",
       "      <td>5.757679</td>\n",
       "      <td>166449.709320</td>\n",
       "      <td>28909.166061</td>\n",
       "    </tr>\n",
       "  </tbody>\n",
       "</table>\n",
       "<p>4727777 rows × 8 columns</p>\n",
       "</div>"
      ],
      "text/plain": [
       "          Timestamp      Open      High       Low     Close  Volume_(BTC)  \\\n",
       "0        1325317920      4.39      4.39      4.39      4.39      0.455581   \n",
       "1        1325317980       NaN       NaN       NaN       NaN           NaN   \n",
       "2        1325318040       NaN       NaN       NaN       NaN           NaN   \n",
       "3        1325318100       NaN       NaN       NaN       NaN           NaN   \n",
       "4        1325318160       NaN       NaN       NaN       NaN           NaN   \n",
       "...             ...       ...       ...       ...       ...           ...   \n",
       "4727772  1609372560  28801.47  28829.42  28785.64  28829.42      0.965221   \n",
       "4727773  1609372620  28829.42  28863.90  28829.42  28857.06      2.368831   \n",
       "4727774  1609372680  28850.49  28900.52  28850.49  28882.82      2.466590   \n",
       "4727775  1609372740  28910.54  28911.52  28867.60  28881.30      7.332773   \n",
       "4727776  1609372800  28893.21  28928.49  28893.21  28928.49      5.757679   \n",
       "\n",
       "         Volume_(Currency)  Weighted_Price  \n",
       "0                 2.000000        4.390000  \n",
       "1                      NaN             NaN  \n",
       "2                      NaN             NaN  \n",
       "3                      NaN             NaN  \n",
       "4                      NaN             NaN  \n",
       "...                    ...             ...  \n",
       "4727772       27804.572129    28806.429798  \n",
       "4727773       68332.350629    28846.441863  \n",
       "4727774       71232.784464    28879.056266  \n",
       "4727775      211870.912660    28893.695831  \n",
       "4727776      166449.709320    28909.166061  \n",
       "\n",
       "[4727777 rows x 8 columns]"
      ]
     },
     "execution_count": 3,
     "metadata": {},
     "output_type": "execute_result"
    }
   ],
   "source": [
    "bitcoin_df"
   ]
  },
  {
   "cell_type": "markdown",
   "metadata": {},
   "source": [
    "### Major Statistics"
   ]
  },
  {
   "cell_type": "code",
   "execution_count": 4,
   "metadata": {},
   "outputs": [
    {
     "name": "stdout",
     "output_type": "stream",
     "text": [
      "          Timestamp          Open          High           Low         Close  \\\n",
      "count  4.727777e+06  3.484305e+06  3.484305e+06  3.484305e+06  3.484305e+06   \n",
      "mean   1.467409e+09  4.570658e+03  4.573721e+03  4.567413e+03  4.570624e+03   \n",
      "std    8.203749e+07  4.775105e+03  4.778620e+03  4.771352e+03  4.775094e+03   \n",
      "min    1.325318e+09  3.800000e+00  3.800000e+00  1.500000e+00  1.500000e+00   \n",
      "25%    1.396235e+09  4.321900e+02  4.324300e+02  4.320000e+02  4.322000e+02   \n",
      "50%    1.467540e+09  3.085010e+03  3.093250e+03  3.078010e+03  3.084410e+03   \n",
      "75%    1.538456e+09  8.158010e+03  8.162850e+03  8.152790e+03  8.157310e+03   \n",
      "max    1.609373e+09  2.899738e+04  2.901032e+04  2.896366e+04  2.899738e+04   \n",
      "\n",
      "       Volume_(BTC)  Volume_(Currency)  Weighted_Price  \n",
      "count  3.484305e+06       3.484305e+06    3.484305e+06  \n",
      "mean   9.422676e+00       3.315691e+04    4.570625e+03  \n",
      "std    3.101255e+01       1.129107e+05    4.775090e+03  \n",
      "min    0.000000e+00       0.000000e+00    3.800000e+00  \n",
      "25%    3.917811e-01       4.147936e+02    4.321753e+02  \n",
      "50%    1.936719e+00       3.305199e+03    3.085478e+03  \n",
      "75%    7.299825e+00       2.158297e+04    8.157964e+03  \n",
      "max    5.853852e+03       1.044599e+07    2.898589e+04  \n"
     ]
    }
   ],
   "source": [
    "# Major Statistics Calculations\n",
    "print(bitcoin_df.describe())"
   ]
  },
  {
   "cell_type": "markdown",
   "metadata": {},
   "source": [
    "### Data Type details"
   ]
  },
  {
   "cell_type": "code",
   "execution_count": 5,
   "metadata": {},
   "outputs": [
    {
     "name": "stdout",
     "output_type": "stream",
     "text": [
      "<class 'pandas.core.frame.DataFrame'>\n",
      "RangeIndex: 4727777 entries, 0 to 4727776\n",
      "Data columns (total 8 columns):\n",
      " #   Column             Dtype  \n",
      "---  ------             -----  \n",
      " 0   Timestamp          int64  \n",
      " 1   Open               float64\n",
      " 2   High               float64\n",
      " 3   Low                float64\n",
      " 4   Close              float64\n",
      " 5   Volume_(BTC)       float64\n",
      " 6   Volume_(Currency)  float64\n",
      " 7   Weighted_Price     float64\n",
      "dtypes: float64(7), int64(1)\n",
      "memory usage: 288.6 MB\n",
      "None\n"
     ]
    }
   ],
   "source": [
    "# Data type details of the columns\n",
    "print(bitcoin_df.info())"
   ]
  },
  {
   "cell_type": "markdown",
   "metadata": {},
   "source": [
    "# Cleaning the Data"
   ]
  },
  {
   "cell_type": "markdown",
   "metadata": {},
   "source": [
    "## Finding the Missing values"
   ]
  },
  {
   "cell_type": "code",
   "execution_count": 6,
   "metadata": {
    "scrolled": true
   },
   "outputs": [
    {
     "name": "stdout",
     "output_type": "stream",
     "text": [
      "Timestamp                  0\n",
      "Open                 1243472\n",
      "High                 1243472\n",
      "Low                  1243472\n",
      "Close                1243472\n",
      "Volume_(BTC)         1243472\n",
      "Volume_(Currency)    1243472\n",
      "Weighted_Price       1243472\n",
      "dtype: int64\n"
     ]
    }
   ],
   "source": [
    "print(bitcoin_df.apply(lambda x: sum(x.isnull()),axis=0))"
   ]
  },
  {
   "cell_type": "markdown",
   "metadata": {},
   "source": [
    "## Replacing the Missing values"
   ]
  },
  {
   "cell_type": "code",
   "execution_count": 7,
   "metadata": {},
   "outputs": [],
   "source": [
    "bitcoin_df['Open'].fillna(bitcoin_df['Open'].mean(), inplace=True)\n",
    "bitcoin_df['High'].fillna(bitcoin_df['High'].mean(), inplace=True)\n",
    "bitcoin_df['Low'].fillna(bitcoin_df['Low'].mean(), inplace=True)\n",
    "bitcoin_df['Close'].fillna(bitcoin_df['Close'].mean(), inplace=True)\n",
    "bitcoin_df['Volume_(BTC)'].fillna(bitcoin_df['Volume_(BTC)'].mean(), inplace=True)\n",
    "bitcoin_df['Volume_(Currency)'].fillna(bitcoin_df['Volume_(Currency)'].mean(), inplace=True)\n",
    "\n",
    "# this is our target column\n",
    "bitcoin_df['Weighted_Price'].fillna(bitcoin_df['Weighted_Price'].mean(), inplace=True)"
   ]
  },
  {
   "cell_type": "markdown",
   "metadata": {},
   "source": [
    "## Final Check for Missing values"
   ]
  },
  {
   "cell_type": "code",
   "execution_count": 8,
   "metadata": {},
   "outputs": [
    {
     "name": "stdout",
     "output_type": "stream",
     "text": [
      "Timestamp            0\n",
      "Open                 0\n",
      "High                 0\n",
      "Low                  0\n",
      "Close                0\n",
      "Volume_(BTC)         0\n",
      "Volume_(Currency)    0\n",
      "Weighted_Price       0\n",
      "dtype: int64\n"
     ]
    }
   ],
   "source": [
    "print(bitcoin_df.apply(lambda x: sum(x.isnull()),axis=0))"
   ]
  },
  {
   "cell_type": "markdown",
   "metadata": {},
   "source": [
    "## Dropping the duplicate values"
   ]
  },
  {
   "cell_type": "code",
   "execution_count": 9,
   "metadata": {},
   "outputs": [],
   "source": [
    "bitcoin_df.drop_duplicates(inplace=True)"
   ]
  },
  {
   "cell_type": "markdown",
   "metadata": {},
   "source": [
    "## Setting up index"
   ]
  },
  {
   "cell_type": "code",
   "execution_count": 10,
   "metadata": {},
   "outputs": [],
   "source": [
    "bitcoin_df.set_index('Timestamp', inplace=True)"
   ]
  },
  {
   "cell_type": "markdown",
   "metadata": {},
   "source": [
    "## Test Export"
   ]
  },
  {
   "cell_type": "code",
   "execution_count": 11,
   "metadata": {},
   "outputs": [],
   "source": [
    "bitcoin_df.to_csv(\"btc_train_ready_improved.csv\")"
   ]
  },
  {
   "cell_type": "markdown",
   "metadata": {},
   "source": [
    "## Checking the Test Export File"
   ]
  },
  {
   "cell_type": "code",
   "execution_count": 12,
   "metadata": {},
   "outputs": [],
   "source": [
    "bitcoin_df_test = pd.read_csv(\"btc_train_ready_improved.csv\")"
   ]
  },
  {
   "cell_type": "code",
   "execution_count": 14,
   "metadata": {},
   "outputs": [
    {
     "data": {
      "text/html": [
       "<div>\n",
       "<style scoped>\n",
       "    .dataframe tbody tr th:only-of-type {\n",
       "        vertical-align: middle;\n",
       "    }\n",
       "\n",
       "    .dataframe tbody tr th {\n",
       "        vertical-align: top;\n",
       "    }\n",
       "\n",
       "    .dataframe thead th {\n",
       "        text-align: right;\n",
       "    }\n",
       "</style>\n",
       "<table border=\"1\" class=\"dataframe\">\n",
       "  <thead>\n",
       "    <tr style=\"text-align: right;\">\n",
       "      <th></th>\n",
       "      <th>Timestamp</th>\n",
       "      <th>Open</th>\n",
       "      <th>High</th>\n",
       "      <th>Low</th>\n",
       "      <th>Close</th>\n",
       "      <th>Volume_(BTC)</th>\n",
       "      <th>Volume_(Currency)</th>\n",
       "      <th>Weighted_Price</th>\n",
       "    </tr>\n",
       "  </thead>\n",
       "  <tbody>\n",
       "    <tr>\n",
       "      <th>0</th>\n",
       "      <td>1325317920</td>\n",
       "      <td>4.390000</td>\n",
       "      <td>4.390000</td>\n",
       "      <td>4.390000</td>\n",
       "      <td>4.390000</td>\n",
       "      <td>0.455581</td>\n",
       "      <td>2.000000</td>\n",
       "      <td>4.390000</td>\n",
       "    </tr>\n",
       "    <tr>\n",
       "      <th>1</th>\n",
       "      <td>1325317980</td>\n",
       "      <td>4570.657932</td>\n",
       "      <td>4573.720783</td>\n",
       "      <td>4567.413236</td>\n",
       "      <td>4570.623968</td>\n",
       "      <td>9.422676</td>\n",
       "      <td>33156.907444</td>\n",
       "      <td>4570.625160</td>\n",
       "    </tr>\n",
       "    <tr>\n",
       "      <th>2</th>\n",
       "      <td>1325318040</td>\n",
       "      <td>4570.657932</td>\n",
       "      <td>4573.720783</td>\n",
       "      <td>4567.413236</td>\n",
       "      <td>4570.623968</td>\n",
       "      <td>9.422676</td>\n",
       "      <td>33156.907444</td>\n",
       "      <td>4570.625160</td>\n",
       "    </tr>\n",
       "    <tr>\n",
       "      <th>3</th>\n",
       "      <td>1325318100</td>\n",
       "      <td>4570.657932</td>\n",
       "      <td>4573.720783</td>\n",
       "      <td>4567.413236</td>\n",
       "      <td>4570.623968</td>\n",
       "      <td>9.422676</td>\n",
       "      <td>33156.907444</td>\n",
       "      <td>4570.625160</td>\n",
       "    </tr>\n",
       "    <tr>\n",
       "      <th>4</th>\n",
       "      <td>1325318160</td>\n",
       "      <td>4570.657932</td>\n",
       "      <td>4573.720783</td>\n",
       "      <td>4567.413236</td>\n",
       "      <td>4570.623968</td>\n",
       "      <td>9.422676</td>\n",
       "      <td>33156.907444</td>\n",
       "      <td>4570.625160</td>\n",
       "    </tr>\n",
       "    <tr>\n",
       "      <th>...</th>\n",
       "      <td>...</td>\n",
       "      <td>...</td>\n",
       "      <td>...</td>\n",
       "      <td>...</td>\n",
       "      <td>...</td>\n",
       "      <td>...</td>\n",
       "      <td>...</td>\n",
       "      <td>...</td>\n",
       "    </tr>\n",
       "    <tr>\n",
       "      <th>4727772</th>\n",
       "      <td>1609372560</td>\n",
       "      <td>28801.470000</td>\n",
       "      <td>28829.420000</td>\n",
       "      <td>28785.640000</td>\n",
       "      <td>28829.420000</td>\n",
       "      <td>0.965221</td>\n",
       "      <td>27804.572129</td>\n",
       "      <td>28806.429798</td>\n",
       "    </tr>\n",
       "    <tr>\n",
       "      <th>4727773</th>\n",
       "      <td>1609372620</td>\n",
       "      <td>28829.420000</td>\n",
       "      <td>28863.900000</td>\n",
       "      <td>28829.420000</td>\n",
       "      <td>28857.060000</td>\n",
       "      <td>2.368831</td>\n",
       "      <td>68332.350629</td>\n",
       "      <td>28846.441863</td>\n",
       "    </tr>\n",
       "    <tr>\n",
       "      <th>4727774</th>\n",
       "      <td>1609372680</td>\n",
       "      <td>28850.490000</td>\n",
       "      <td>28900.520000</td>\n",
       "      <td>28850.490000</td>\n",
       "      <td>28882.820000</td>\n",
       "      <td>2.466590</td>\n",
       "      <td>71232.784464</td>\n",
       "      <td>28879.056266</td>\n",
       "    </tr>\n",
       "    <tr>\n",
       "      <th>4727775</th>\n",
       "      <td>1609372740</td>\n",
       "      <td>28910.540000</td>\n",
       "      <td>28911.520000</td>\n",
       "      <td>28867.600000</td>\n",
       "      <td>28881.300000</td>\n",
       "      <td>7.332773</td>\n",
       "      <td>211870.912660</td>\n",
       "      <td>28893.695831</td>\n",
       "    </tr>\n",
       "    <tr>\n",
       "      <th>4727776</th>\n",
       "      <td>1609372800</td>\n",
       "      <td>28893.210000</td>\n",
       "      <td>28928.490000</td>\n",
       "      <td>28893.210000</td>\n",
       "      <td>28928.490000</td>\n",
       "      <td>5.757679</td>\n",
       "      <td>166449.709320</td>\n",
       "      <td>28909.166061</td>\n",
       "    </tr>\n",
       "  </tbody>\n",
       "</table>\n",
       "<p>4727777 rows × 8 columns</p>\n",
       "</div>"
      ],
      "text/plain": [
       "          Timestamp          Open          High           Low         Close  \\\n",
       "0        1325317920      4.390000      4.390000      4.390000      4.390000   \n",
       "1        1325317980   4570.657932   4573.720783   4567.413236   4570.623968   \n",
       "2        1325318040   4570.657932   4573.720783   4567.413236   4570.623968   \n",
       "3        1325318100   4570.657932   4573.720783   4567.413236   4570.623968   \n",
       "4        1325318160   4570.657932   4573.720783   4567.413236   4570.623968   \n",
       "...             ...           ...           ...           ...           ...   \n",
       "4727772  1609372560  28801.470000  28829.420000  28785.640000  28829.420000   \n",
       "4727773  1609372620  28829.420000  28863.900000  28829.420000  28857.060000   \n",
       "4727774  1609372680  28850.490000  28900.520000  28850.490000  28882.820000   \n",
       "4727775  1609372740  28910.540000  28911.520000  28867.600000  28881.300000   \n",
       "4727776  1609372800  28893.210000  28928.490000  28893.210000  28928.490000   \n",
       "\n",
       "         Volume_(BTC)  Volume_(Currency)  Weighted_Price  \n",
       "0            0.455581           2.000000        4.390000  \n",
       "1            9.422676       33156.907444     4570.625160  \n",
       "2            9.422676       33156.907444     4570.625160  \n",
       "3            9.422676       33156.907444     4570.625160  \n",
       "4            9.422676       33156.907444     4570.625160  \n",
       "...               ...                ...             ...  \n",
       "4727772      0.965221       27804.572129    28806.429798  \n",
       "4727773      2.368831       68332.350629    28846.441863  \n",
       "4727774      2.466590       71232.784464    28879.056266  \n",
       "4727775      7.332773      211870.912660    28893.695831  \n",
       "4727776      5.757679      166449.709320    28909.166061  \n",
       "\n",
       "[4727777 rows x 8 columns]"
      ]
     },
     "execution_count": 14,
     "metadata": {},
     "output_type": "execute_result"
    }
   ],
   "source": [
    "bitcoin_df_test"
   ]
  },
  {
   "cell_type": "markdown",
   "metadata": {},
   "source": [
    "# Training the Model"
   ]
  },
  {
   "cell_type": "markdown",
   "metadata": {},
   "source": [
    "## Define X (independent variable(s) and Y (dependent variable)"
   ]
  },
  {
   "cell_type": "code",
   "execution_count": 15,
   "metadata": {},
   "outputs": [],
   "source": [
    "X = bitcoin_df.drop(['Weighted_Price'], axis=1).values\n",
    "Y = bitcoin_df['Weighted_Price'].values"
   ]
  },
  {
   "cell_type": "code",
   "execution_count": 16,
   "metadata": {},
   "outputs": [
    {
     "name": "stdout",
     "output_type": "stream",
     "text": [
      "[[4.39000000e+00 4.39000000e+00 4.39000000e+00 4.39000000e+00\n",
      "  4.55580870e-01 2.00000002e+00]\n",
      " [4.57065793e+03 4.57372078e+03 4.56741324e+03 4.57062397e+03\n",
      "  9.42267650e+00 3.31569074e+04]\n",
      " [4.57065793e+03 4.57372078e+03 4.56741324e+03 4.57062397e+03\n",
      "  9.42267650e+00 3.31569074e+04]\n",
      " ...\n",
      " [2.88504900e+04 2.89005200e+04 2.88504900e+04 2.88828200e+04\n",
      "  2.46658976e+00 7.12327845e+04]\n",
      " [2.89105400e+04 2.89115200e+04 2.88676000e+04 2.88813000e+04\n",
      "  7.33277300e+00 2.11870913e+05]\n",
      " [2.88932100e+04 2.89284900e+04 2.88932100e+04 2.89284900e+04\n",
      "  5.75767938e+00 1.66449709e+05]]\n"
     ]
    }
   ],
   "source": [
    "print(X)"
   ]
  },
  {
   "cell_type": "code",
   "execution_count": 17,
   "metadata": {},
   "outputs": [
    {
     "name": "stdout",
     "output_type": "stream",
     "text": [
      "[4.39000000e+00 4.57062516e+03 4.57062516e+03 ... 2.88790563e+04\n",
      " 2.88936958e+04 2.89091661e+04]\n"
     ]
    }
   ],
   "source": [
    "print(Y)"
   ]
  },
  {
   "cell_type": "markdown",
   "metadata": {},
   "source": [
    "## Split dataset into training and test sets"
   ]
  },
  {
   "cell_type": "code",
   "execution_count": 18,
   "metadata": {},
   "outputs": [],
   "source": [
    "from sklearn.model_selection import train_test_split\n",
    "x_train, x_test, y_train, y_test = train_test_split(X, Y, test_size=0.3, random_state=0)"
   ]
  },
  {
   "cell_type": "markdown",
   "metadata": {},
   "source": [
    "## Train the model on the training set"
   ]
  },
  {
   "cell_type": "code",
   "execution_count": 19,
   "metadata": {},
   "outputs": [
    {
     "data": {
      "text/plain": [
       "LinearRegression()"
      ]
     },
     "execution_count": 19,
     "metadata": {},
     "output_type": "execute_result"
    }
   ],
   "source": [
    "from sklearn.linear_model import LinearRegression\n",
    "ml = LinearRegression()\n",
    "ml.fit(x_train, y_train)"
   ]
  },
  {
   "cell_type": "markdown",
   "metadata": {},
   "source": [
    "## Predict the test set results"
   ]
  },
  {
   "cell_type": "code",
   "execution_count": 20,
   "metadata": {},
   "outputs": [
    {
     "name": "stdout",
     "output_type": "stream",
     "text": [
      "[ 4570.62440088 11890.18500916   237.54512254 ...    97.50863279\n",
      "  4570.62440088  4570.62440088]\n"
     ]
    }
   ],
   "source": [
    "y_predicted = ml.predict(x_test)\n",
    "print(y_predicted)"
   ]
  },
  {
   "cell_type": "code",
   "execution_count": 21,
   "metadata": {},
   "outputs": [
    {
     "data": {
      "text/plain": [
       "array([4570.62440097])"
      ]
     },
     "execution_count": 21,
     "metadata": {},
     "output_type": "execute_result"
    }
   ],
   "source": [
    "# testing second row of the dataset\n",
    "ml.predict([[4570.657932, 4573.720783, 4567.413236, 4570.623968, 9.422676, 33156.907444]])"
   ]
  },
  {
   "cell_type": "markdown",
   "metadata": {},
   "source": [
    "## Evaluate the model"
   ]
  },
  {
   "cell_type": "code",
   "execution_count": 22,
   "metadata": {},
   "outputs": [
    {
     "data": {
      "text/plain": [
       "0.9999996835405817"
      ]
     },
     "execution_count": 22,
     "metadata": {},
     "output_type": "execute_result"
    }
   ],
   "source": [
    "from sklearn.metrics import r2_score\n",
    "r2_score(y_test, y_predicted)"
   ]
  },
  {
   "cell_type": "markdown",
   "metadata": {},
   "source": [
    "## Plot the results"
   ]
  },
  {
   "cell_type": "code",
   "execution_count": 23,
   "metadata": {},
   "outputs": [
    {
     "data": {
      "text/plain": [
       "Text(0.5, 1.0, 'Actual vs Predicted')"
      ]
     },
     "execution_count": 23,
     "metadata": {},
     "output_type": "execute_result"
    },
    {
     "data": {
      "image/png": "[encoded data removed]",
      "text/plain": [
       "<Figure size 864x576 with 1 Axes>"
      ]
     },
     "metadata": {
      "needs_background": "light"
     },
     "output_type": "display_data"
    }
   ],
   "source": [
    "import matplotlib.pyplot as plt\n",
    "plt.figure(figsize=(12, 8))\n",
    "plt.scatter(y_test, y_predicted)\n",
    "plt.xlabel('Actual')\n",
    "plt.ylabel('Predicted')\n",
    "plt.title('Actual vs Predicted')"
   ]
  },
  {
   "cell_type": "markdown",
   "metadata": {},
   "source": [
    "## Predicted values"
   ]
  },
  {
   "cell_type": "code",
   "execution_count": 24,
   "metadata": {},
   "outputs": [
    {
     "data": {
      "text/html": [
       "<div>\n",
       "<style scoped>\n",
       "    .dataframe tbody tr th:only-of-type {\n",
       "        vertical-align: middle;\n",
       "    }\n",
       "\n",
       "    .dataframe tbody tr th {\n",
       "        vertical-align: top;\n",
       "    }\n",
       "\n",
       "    .dataframe thead th {\n",
       "        text-align: right;\n",
       "    }\n",
       "</style>\n",
       "<table border=\"1\" class=\"dataframe\">\n",
       "  <thead>\n",
       "    <tr style=\"text-align: right;\">\n",
       "      <th></th>\n",
       "      <th>Actual Value</th>\n",
       "      <th>Predicted Value</th>\n",
       "      <th>Difference</th>\n",
       "    </tr>\n",
       "  </thead>\n",
       "  <tbody>\n",
       "    <tr>\n",
       "      <th>0</th>\n",
       "      <td>4570.625160</td>\n",
       "      <td>4570.624401</td>\n",
       "      <td>0.000759</td>\n",
       "    </tr>\n",
       "    <tr>\n",
       "      <th>1</th>\n",
       "      <td>11886.201906</td>\n",
       "      <td>11890.185009</td>\n",
       "      <td>-3.983103</td>\n",
       "    </tr>\n",
       "    <tr>\n",
       "      <th>2</th>\n",
       "      <td>237.580000</td>\n",
       "      <td>237.545123</td>\n",
       "      <td>0.034877</td>\n",
       "    </tr>\n",
       "    <tr>\n",
       "      <th>3</th>\n",
       "      <td>4570.625160</td>\n",
       "      <td>4570.624401</td>\n",
       "      <td>0.000759</td>\n",
       "    </tr>\n",
       "    <tr>\n",
       "      <th>4</th>\n",
       "      <td>393.400573</td>\n",
       "      <td>393.310561</td>\n",
       "      <td>0.090012</td>\n",
       "    </tr>\n",
       "    <tr>\n",
       "      <th>...</th>\n",
       "      <td>...</td>\n",
       "      <td>...</td>\n",
       "      <td>...</td>\n",
       "    </tr>\n",
       "    <tr>\n",
       "      <th>1418329</th>\n",
       "      <td>118.488095</td>\n",
       "      <td>118.442385</td>\n",
       "      <td>0.045710</td>\n",
       "    </tr>\n",
       "    <tr>\n",
       "      <th>1418330</th>\n",
       "      <td>3367.837939</td>\n",
       "      <td>3367.692086</td>\n",
       "      <td>0.145852</td>\n",
       "    </tr>\n",
       "    <tr>\n",
       "      <th>1418331</th>\n",
       "      <td>97.550000</td>\n",
       "      <td>97.508633</td>\n",
       "      <td>0.041367</td>\n",
       "    </tr>\n",
       "    <tr>\n",
       "      <th>1418332</th>\n",
       "      <td>4570.625160</td>\n",
       "      <td>4570.624401</td>\n",
       "      <td>0.000759</td>\n",
       "    </tr>\n",
       "    <tr>\n",
       "      <th>1418333</th>\n",
       "      <td>4570.625160</td>\n",
       "      <td>4570.624401</td>\n",
       "      <td>0.000759</td>\n",
       "    </tr>\n",
       "  </tbody>\n",
       "</table>\n",
       "<p>1418334 rows × 3 columns</p>\n",
       "</div>"
      ],
      "text/plain": [
       "         Actual Value  Predicted Value  Difference\n",
       "0         4570.625160      4570.624401    0.000759\n",
       "1        11886.201906     11890.185009   -3.983103\n",
       "2          237.580000       237.545123    0.034877\n",
       "3         4570.625160      4570.624401    0.000759\n",
       "4          393.400573       393.310561    0.090012\n",
       "...               ...              ...         ...\n",
       "1418329    118.488095       118.442385    0.045710\n",
       "1418330   3367.837939      3367.692086    0.145852\n",
       "1418331     97.550000        97.508633    0.041367\n",
       "1418332   4570.625160      4570.624401    0.000759\n",
       "1418333   4570.625160      4570.624401    0.000759\n",
       "\n",
       "[1418334 rows x 3 columns]"
      ]
     },
     "execution_count": 24,
     "metadata": {},
     "output_type": "execute_result"
    }
   ],
   "source": [
    "predicted_y_diff = pd.DataFrame({'Actual Value':y_test, 'Predicted Value':y_predicted, 'Difference':y_test-y_predicted})\n",
    "predicted_y_diff"
   ]
  },
  {
   "cell_type": "markdown",
   "metadata": {},
   "source": [
    "# This model has 99.99% Accuracy"
   ]
  }
 ],
 "metadata": {
  "kernelspec": {
   "display_name": "Python 3",
   "language": "python",
   "name": "python3"
  },
  "language_info": {
   "codemirror_mode": {
    "name": "ipython",
    "version": 3
   },
   "file_extension": ".py",
   "mimetype": "text/x-python",
   "name": "python",
   "nbconvert_exporter": "python",
   "pygments_lexer": "ipython3",
   "version": "3.8.5"
  }
 },
 "nbformat": 4,
 "nbformat_minor": 5
}
